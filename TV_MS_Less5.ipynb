{
 "cells": [
  {
   "cell_type": "code",
   "execution_count": 1,
   "metadata": {},
   "outputs": [],
   "source": [
    "import numpy as np\n",
    "import pandas as pd\n",
    "import matplotlib.pyplot as plt\n",
    "import warnings\n",
    "import scipy\n",
    "from scipy import stats\n",
    "warnings.filterwarnings('ignore')"
   ]
  },
  {
   "cell_type": "markdown",
   "metadata": {},
   "source": [
    "##### 1. Известно, что генеральная совокупность распределена нормально со средним квадратическим отклонением, равным 16 Найти доверительный интервал для оценки математического ожидания с надежностью 0.95, если выборочная средняя M = 80, а объем выборки n = 256."
   ]
  },
  {
   "cell_type": "markdown",
   "metadata": {},
   "source": [
    "Поскольку мы имеем дело с нормальным распределением с известным среднеквадратичным отклонением, то воспользуемся формулой:\n",
    "\n",
    "$$\\overline{X} \\pm Z_\\frac a2 \\cdot \\frac{\\sigma}{\\sqrt{n}}$$\n",
    "Z-значение нашла из таблицы и из условия, что надежность равна 0,95. \n",
    "\n",
    "Z = 1.96"
   ]
  },
  {
   "cell_type": "code",
   "execution_count": 2,
   "metadata": {},
   "outputs": [
    {
     "name": "stdout",
     "output_type": "stream",
     "text": [
      "Доверительный интервал:  (78.04, 81.96)\n"
     ]
    }
   ],
   "source": [
    "ocenka = 1.96*(16/np.sqrt(256))\n",
    "print(\"Доверительный интервал: \", (80 - ocenka, 80 + ocenka))"
   ]
  },
  {
   "cell_type": "markdown",
   "metadata": {},
   "source": [
    "##### 2. В результате 10 независимых измерений некоторой величины X, выполненных с одинаковой точностью, получены опытные данные: 6.9, 6.1, 6.2, 6.8, 7.5, 6.3, 6.4, 6.9, 6.7, 6.1 Предполагая, что результаты измерений подчинены нормальному закону распределения вероятностей, оценить истинное значение величины X при помощи доверительного интервала, покрывающего это значение с доверительной вероятностью 0,95."
   ]
  },
  {
   "cell_type": "markdown",
   "metadata": {},
   "source": [
    "Применим критерий Стьюдента (т.к. СКО генеральной совокупности нам не известно). Доверительный интервал найдем по формуле:\n",
    "\n",
    "$$\\overline{X} \\pm t_\\frac a2 \\cdot \\frac{S}{\\sqrt{n}}$$\n",
    "Найдем $\\overline{X},$ S и n."
   ]
  },
  {
   "cell_type": "code",
   "execution_count": 3,
   "metadata": {},
   "outputs": [],
   "source": [
    "viborka = pd.DataFrame([6.9, 6.1, 6.2, 6.8, 7.5, 6.3, 6.4, 6.9, 6.7, 6.1])"
   ]
  },
  {
   "cell_type": "code",
   "execution_count": 4,
   "metadata": {},
   "outputs": [
    {
     "data": {
      "text/plain": [
       "0.4508017549014448"
      ]
     },
     "execution_count": 4,
     "metadata": {},
     "output_type": "execute_result"
    }
   ],
   "source": [
    "# Найдем СКО\n",
    "S = np.sqrt(((viborka[0] - viborka[0].mean())**2).sum() / (viborka[0].count() - 1))\n",
    "S"
   ]
  },
  {
   "cell_type": "code",
   "execution_count": 5,
   "metadata": {},
   "outputs": [
    {
     "data": {
      "text/plain": [
       "10"
      ]
     },
     "execution_count": 5,
     "metadata": {},
     "output_type": "execute_result"
    }
   ],
   "source": [
    "# Найдем количество элементов выборки\n",
    "n = viborka[0].count()\n",
    "n"
   ]
  },
  {
   "cell_type": "code",
   "execution_count": 6,
   "metadata": {},
   "outputs": [
    {
     "data": {
      "text/plain": [
       "6.589999999999999"
      ]
     },
     "execution_count": 6,
     "metadata": {},
     "output_type": "execute_result"
    }
   ],
   "source": [
    "# Найдем выборочное среднее\n",
    "X = viborka[0].mean()\n",
    "X"
   ]
  },
  {
   "cell_type": "code",
   "execution_count": 7,
   "metadata": {},
   "outputs": [],
   "source": [
    "# Найдем t-критерий из таблицы для (0.05, 9). Берем а=1-0.95 (0,95 - доверительная вероятность), 9 = (число элементов выборки-1)\n",
    "t = 2.262"
   ]
  },
  {
   "cell_type": "code",
   "execution_count": 11,
   "metadata": {},
   "outputs": [
    {
     "name": "stdout",
     "output_type": "stream",
     "text": [
      "Таким образом, можно утверждать, что величина X (с доверительной вероятностью 0.95) находится в интервале:  (6.267538255912425, 6.912461744087573)\n"
     ]
    }
   ],
   "source": [
    "ocenka = t*(S/np.sqrt(10))\n",
    "print(\"Таким образом, можно утверждать, что величина X (с доверительной вероятностью 0.95) находится в интервале: \", (X - ocenka, X + ocenka))"
   ]
  },
  {
   "cell_type": "markdown",
   "metadata": {},
   "source": [
    "##### 3. Утверждается, что шарики для подшипников, изготовленные автоматическим станком, имеют средний диаметр 17 мм. Используя односторонний критерий с α=0,05, проверить эту гипотезу, если в выборке из n=100 шариков средний диаметр оказался равным 17.5 мм, а дисперсия известна и равна 4 кв.мм."
   ]
  },
  {
   "cell_type": "markdown",
   "metadata": {},
   "source": [
    "3.1. Формулировка основной и альтернативной гипотез:\n",
    "\n",
    "    Н0: диаметр = 17 мм, µ =µ0\n",
    "    Н1: диаметр = 17,5 мм, µ >µ0\n",
    "\n",
    "\n",
    "3.2. Выбор статистического критерия, на основе которого будет проводиться проверка.\n",
    "\n",
    "    В качестве критерия выберем Z-критерий, т.к.нам известно СКО генеральной совокупности из условия.\n",
    "\n",
    "\n",
    "3.3. Выбор уровня значимости $\\alpha$.\n",
    "\n",
    "    Уровень значимости 5%.\n",
    "\n",
    "\n",
    "3.4. Определение границ области данной гипотезы."
   ]
  },
  {
   "cell_type": "code",
   "execution_count": 23,
   "metadata": {},
   "outputs": [
    {
     "data": {
      "text/plain": [
       "1.6448536269514722"
      ]
     },
     "execution_count": 23,
     "metadata": {},
     "output_type": "execute_result"
    }
   ],
   "source": [
    "Z = stats.norm.ppf(q = 0.95)\n",
    "Z"
   ]
  },
  {
   "cell_type": "code",
   "execution_count": 24,
   "metadata": {},
   "outputs": [
    {
     "data": {
      "text/plain": [
       "2.5"
      ]
     },
     "execution_count": 24,
     "metadata": {},
     "output_type": "execute_result"
    }
   ],
   "source": [
    "n=100\n",
    "Zn = (17.5-17)/(2/np.sqrt(n))\n",
    "Zn"
   ]
  },
  {
   "cell_type": "markdown",
   "metadata": {},
   "source": [
    "3.5. Подведение итогов и формулировка вывода.\n",
    "\n",
    "    Мы получили, что Zn > Z. Следовательно, нулевая гипотеза не верна. \n",
    "    Т.о. средний диаметр шариков больше 17 мм с вероятностью 95%."
   ]
  },
  {
   "cell_type": "markdown",
   "metadata": {},
   "source": [
    "##### 4. Продавец утверждает, что средний вес пачки печенья составляет 200 г. Из партии извлечена выборка из 10 пачек. Вес каждой пачки составляет: 202, 203, 199, 197, 195, 201, 200, 204, 194, 190. Известно, что их веса распределены нормально. Верно ли утверждение продавца, если учитывать, что доверительная вероятность равна 99%?"
   ]
  },
  {
   "cell_type": "markdown",
   "metadata": {},
   "source": [
    "Найдем $\\overline{X},$ S и n из выборки"
   ]
  },
  {
   "cell_type": "code",
   "execution_count": 26,
   "metadata": {},
   "outputs": [],
   "source": [
    "viborka = pd.DataFrame([202, 203, 199, 197, 195, 201, 200, 204, 194, 190])"
   ]
  },
  {
   "cell_type": "code",
   "execution_count": 27,
   "metadata": {},
   "outputs": [
    {
     "data": {
      "text/plain": [
       "4.453463071962462"
      ]
     },
     "execution_count": 27,
     "metadata": {},
     "output_type": "execute_result"
    }
   ],
   "source": [
    "# Найдем СКО выборки\n",
    "S = np.sqrt(((viborka[0] - viborka[0].mean())**2).sum() / (viborka[0].count() - 1))\n",
    "S"
   ]
  },
  {
   "cell_type": "code",
   "execution_count": 28,
   "metadata": {},
   "outputs": [
    {
     "data": {
      "text/plain": [
       "10"
      ]
     },
     "execution_count": 28,
     "metadata": {},
     "output_type": "execute_result"
    }
   ],
   "source": [
    "# Найдем количество элементов выборки\n",
    "n = viborka[0].count()\n",
    "n"
   ]
  },
  {
   "cell_type": "code",
   "execution_count": 38,
   "metadata": {},
   "outputs": [
    {
     "data": {
      "text/plain": [
       "198.5"
      ]
     },
     "execution_count": 38,
     "metadata": {},
     "output_type": "execute_result"
    }
   ],
   "source": [
    "# Найдем выборочное среднее выборки\n",
    "X = viborka[0].mean()\n",
    "X"
   ]
  },
  {
   "cell_type": "markdown",
   "metadata": {},
   "source": [
    "4.1. Формулировка основной и альтернативной гипотез:\n",
    "\n",
    "    H0 - Вес пачки равен 200 г\n",
    "    H1 - Вес пачки не равен 200 г (больше или меньше)\n",
    "\n",
    "4.2. Выбор статистического критерия, на основе которого будет проводиться проверка.\n",
    "\n",
    "    Применим критерий Стьюдента (т.к. СКО генеральной совокупности нам не известно).\n",
    "\n",
    "4.3. Выбор уровня значимости $\\alpha$.\n",
    "\n",
    "    Уровень значимости 0,01 (по 0,005 с каждой стороны).\n",
    "\n",
    "4.4. Определение границ области данной гипотезы."
   ]
  },
  {
   "cell_type": "code",
   "execution_count": 42,
   "metadata": {},
   "outputs": [],
   "source": [
    "# Найдем t для построения 99%-го доверительного интервала, n=10 по таблице: t(0.005, n-1)\n",
    "t = 3,25"
   ]
  },
  {
   "cell_type": "markdown",
   "metadata": {},
   "source": [
    "Т.о. Р(|T|>3.25)=0.01 - наш уровень значимости"
   ]
  },
  {
   "cell_type": "code",
   "execution_count": 47,
   "metadata": {},
   "outputs": [
    {
     "data": {
      "text/plain": [
       "1.0651074037450896"
      ]
     },
     "execution_count": 47,
     "metadata": {},
     "output_type": "execute_result"
    }
   ],
   "source": [
    "# найдем t выборки справа\n",
    "tn_r = (200-X)/S*np.sqrt(n)\n",
    "tn_r"
   ]
  },
  {
   "cell_type": "code",
   "execution_count": 48,
   "metadata": {},
   "outputs": [
    {
     "data": {
      "text/plain": [
       "-1.0651074037450896"
      ]
     },
     "execution_count": 48,
     "metadata": {},
     "output_type": "execute_result"
    }
   ],
   "source": [
    "# найдем t выборки слева\n",
    "tn_l = (X-200)/S*np.sqrt(n)\n",
    "tn_l"
   ]
  },
  {
   "cell_type": "markdown",
   "metadata": {},
   "source": [
    "4.5. Подведение итогов и формулировка вывода.\n",
    "\n",
    "    |tn| < |t|, следовательно, нулевая гипотеза верна: средний вес пачки печенья равен 200 г."
   ]
  },
  {
   "cell_type": "code",
   "execution_count": null,
   "metadata": {},
   "outputs": [],
   "source": []
  }
 ],
 "metadata": {
  "kernelspec": {
   "display_name": "Python 3",
   "language": "python",
   "name": "python3"
  },
  "language_info": {
   "codemirror_mode": {
    "name": "ipython",
    "version": 3
   },
   "file_extension": ".py",
   "mimetype": "text/x-python",
   "name": "python",
   "nbconvert_exporter": "python",
   "pygments_lexer": "ipython3",
   "version": "3.8.5"
  }
 },
 "nbformat": 4,
 "nbformat_minor": 4
}
